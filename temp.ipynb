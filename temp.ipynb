{
 "cells": [
  {
   "cell_type": "code",
   "execution_count": 19,
   "id": "f93a2716-2224-412a-a018-d28fa13b91fb",
   "metadata": {},
   "outputs": [
    {
     "name": "stdout",
     "output_type": "stream",
     "text": [
      "Total images imported: 4516\n",
      "[-1.         -0.93548387 -0.87096774 -0.80645161 -0.74193548 -0.67741935\n",
      " -0.61290323 -0.5483871  -0.48387097 -0.41935484 -0.35483871 -0.29032258\n",
      " -0.22580645 -0.16129032 -0.09677419 -0.03225806  0.03225806  0.09677419\n",
      "  0.16129032  0.22580645  0.29032258  0.35483871  0.41935484  0.48387097\n",
      "  0.5483871   0.61290323  0.67741935  0.74193548  0.80645161  0.87096774\n",
      "  0.93548387  1.        ]\n",
      "[-0.96774194 -0.90322581 -0.83870968 -0.77419355 -0.70967742 -0.64516129\n",
      " -0.58064516 -0.51612903 -0.4516129  -0.38709677 -0.32258065 -0.25806452\n",
      " -0.19354839 -0.12903226 -0.06451613  0.          0.06451613  0.12903226\n",
      "  0.19354839  0.25806452  0.32258065  0.38709677  0.4516129   0.51612903\n",
      "  0.58064516  0.64516129  0.70967742  0.77419355  0.83870968  0.90322581\n",
      "  0.96774194]\n"
     ]
    },
    {
     "ename": "NameError",
     "evalue": "name 'plt' is not defined",
     "output_type": "error",
     "traceback": [
      "\u001b[0;31m---------------------------------------------------------------------------\u001b[0m",
      "\u001b[0;31mNameError\u001b[0m                                 Traceback (most recent call last)",
      "File \u001b[0;32m~/Desktop/self-drive/venv/TrainingSimulation.py:5\u001b[0m\n\u001b[1;32m      0\u001b[0m <Error retrieving source code with stack_data see ipython/ipython#13598>\n",
      "File \u001b[0;32m~/Desktop/self-drive/venv/utils.py:23\u001b[0m, in \u001b[0;36mbalanceData\u001b[0;34m(data, display)\u001b[0m\n\u001b[1;32m     21\u001b[0m center\u001b[38;5;241m=\u001b[39m (bins[:\u001b[38;5;241m-\u001b[39m\u001b[38;5;241m1\u001b[39m]\u001b[38;5;241m+\u001b[39mbins[\u001b[38;5;241m1\u001b[39m:])\u001b[38;5;241m*\u001b[39m\u001b[38;5;241m0.5\u001b[39m;\n\u001b[1;32m     22\u001b[0m \u001b[38;5;28mprint\u001b[39m(center);\n\u001b[0;32m---> 23\u001b[0m plt\u001b[38;5;241m.\u001b[39mbar(center,hist,width\u001b[38;5;241m=\u001b[39m\u001b[38;5;241m0.06\u001b[39m);\n\u001b[1;32m     24\u001b[0m plt\u001b[38;5;241m.\u001b[39mshow()\n",
      "\u001b[0;31mNameError\u001b[0m: name 'plt' is not defined"
     ]
    }
   ],
   "source": [
    "%run TrainingSimulation.py"
   ]
  },
  {
   "cell_type": "code",
   "execution_count": 33,
   "id": "6c87311e-7873-46e9-8edd-b2ccb05e685b",
   "metadata": {},
   "outputs": [
    {
     "name": "stdout",
     "output_type": "stream",
     "text": [
      "[4, 3, 2, 1]\n"
     ]
    }
   ],
   "source": []
  },
  {
   "cell_type": "code",
   "execution_count": 7,
   "id": "60d584f8-4537-4ced-8875-9ada0472fa1c",
   "metadata": {},
   "outputs": [
    {
     "name": "stdout",
     "output_type": "stream",
     "text": [
      "0.4\n"
     ]
    }
   ],
   "source": [
    "print((5-1)/10)"
   ]
  },
  {
   "cell_type": "code",
   "execution_count": null,
   "id": "8ada6fc1-f319-415f-b98e-b56ac0e4a328",
   "metadata": {},
   "outputs": [],
   "source": []
  }
 ],
 "metadata": {
  "kernelspec": {
   "display_name": "Python 3 (ipykernel)",
   "language": "python",
   "name": "python3"
  },
  "language_info": {
   "codemirror_mode": {
    "name": "ipython",
    "version": 3
   },
   "file_extension": ".py",
   "mimetype": "text/x-python",
   "name": "python",
   "nbconvert_exporter": "python",
   "pygments_lexer": "ipython3",
   "version": "3.12.4"
  }
 },
 "nbformat": 4,
 "nbformat_minor": 5
}
