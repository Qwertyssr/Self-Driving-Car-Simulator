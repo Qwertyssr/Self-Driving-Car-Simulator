{
 "cells": [
  {
   "cell_type": "code",
   "execution_count": 3,
   "id": "f0f4489b-1624-4543-a894-ae161ce32af8",
   "metadata": {},
   "outputs": [],
   "source": [
    "from utils1 import *\n",
    "import matplotlib.pyplot as plt\n",
    "from sklearn.model_selection import train_test_split"
   ]
  },
  {
   "cell_type": "code",
   "execution_count": 4,
   "id": "1d878482-9f86-4f47-8424-0cfb257c57ae",
   "metadata": {},
   "outputs": [
    {
     "name": "stdout",
     "output_type": "stream",
     "text": [
      "Total images imported: 4516\n",
      "Remaining images: 2110\n"
     ]
    },
    {
     "data": {
      "image/png": "[encoded data removed]",
      "text/plain": [
       "<Figure size 640x480 with 1 Axes>"
      ]
     },
     "metadata": {},
     "output_type": "display_data"
    },
    {
     "data": {
      "text/html": [
       "<div>\n",
       "<style scoped>\n",
       "    .dataframe tbody tr th:only-of-type {\n",
       "        vertical-align: middle;\n",
       "    }\n",
       "\n",
       "    .dataframe tbody tr th {\n",
       "        vertical-align: top;\n",
       "    }\n",
       "\n",
       "    .dataframe thead th {\n",
       "        text-align: right;\n",
       "    }\n",
       "</style>\n",
       "<table border=\"1\" class=\"dataframe\">\n",
       "  <thead>\n",
       "    <tr style=\"text-align: right;\">\n",
       "      <th></th>\n",
       "      <th>Center</th>\n",
       "      <th>Left</th>\n",
       "      <th>Right</th>\n",
       "      <th>Steering</th>\n",
       "      <th>Throttle</th>\n",
       "      <th>Brake</th>\n",
       "      <th>Speed</th>\n",
       "    </tr>\n",
       "  </thead>\n",
       "  <tbody>\n",
       "    <tr>\n",
       "      <th>3</th>\n",
       "      <td>center_2025_01_23_19_45_29_242.jpg</td>\n",
       "      <td>/Users/samara/Desktop/self-drive/data/IMG/lef...</td>\n",
       "      <td>/Users/samara/Desktop/self-drive/data/IMG/rig...</td>\n",
       "      <td>0.0</td>\n",
       "      <td>0.0</td>\n",
       "      <td>0.0</td>\n",
       "      <td>0.000084</td>\n",
       "    </tr>\n",
       "    <tr>\n",
       "      <th>6</th>\n",
       "      <td>center_2025_01_23_19_45_29_596.jpg</td>\n",
       "      <td>/Users/samara/Desktop/self-drive/data/IMG/lef...</td>\n",
       "      <td>/Users/samara/Desktop/self-drive/data/IMG/rig...</td>\n",
       "      <td>0.0</td>\n",
       "      <td>0.0</td>\n",
       "      <td>0.0</td>\n",
       "      <td>0.000078</td>\n",
       "    </tr>\n",
       "    <tr>\n",
       "      <th>8</th>\n",
       "      <td>center_2025_01_23_19_45_29_836.jpg</td>\n",
       "      <td>/Users/samara/Desktop/self-drive/data/IMG/lef...</td>\n",
       "      <td>/Users/samara/Desktop/self-drive/data/IMG/rig...</td>\n",
       "      <td>0.0</td>\n",
       "      <td>0.0</td>\n",
       "      <td>0.0</td>\n",
       "      <td>0.000080</td>\n",
       "    </tr>\n",
       "    <tr>\n",
       "      <th>10</th>\n",
       "      <td>center_2025_01_23_19_45_30_078.jpg</td>\n",
       "      <td>/Users/samara/Desktop/self-drive/data/IMG/lef...</td>\n",
       "      <td>/Users/samara/Desktop/self-drive/data/IMG/rig...</td>\n",
       "      <td>0.0</td>\n",
       "      <td>0.0</td>\n",
       "      <td>0.0</td>\n",
       "      <td>0.000078</td>\n",
       "    </tr>\n",
       "    <tr>\n",
       "      <th>14</th>\n",
       "      <td>center_2025_01_23_19_45_30_557.jpg</td>\n",
       "      <td>/Users/samara/Desktop/self-drive/data/IMG/lef...</td>\n",
       "      <td>/Users/samara/Desktop/self-drive/data/IMG/rig...</td>\n",
       "      <td>0.0</td>\n",
       "      <td>0.0</td>\n",
       "      <td>0.0</td>\n",
       "      <td>0.000080</td>\n",
       "    </tr>\n",
       "    <tr>\n",
       "      <th>...</th>\n",
       "      <td>...</td>\n",
       "      <td>...</td>\n",
       "      <td>...</td>\n",
       "      <td>...</td>\n",
       "      <td>...</td>\n",
       "      <td>...</td>\n",
       "      <td>...</td>\n",
       "    </tr>\n",
       "    <tr>\n",
       "      <th>4506</th>\n",
       "      <td>center_2025_01_23_20_04_54_171.jpg</td>\n",
       "      <td>/Users/samara/Desktop/self-drive/data/IMG/lef...</td>\n",
       "      <td>/Users/samara/Desktop/self-drive/data/IMG/rig...</td>\n",
       "      <td>0.0</td>\n",
       "      <td>0.0</td>\n",
       "      <td>0.0</td>\n",
       "      <td>12.310910</td>\n",
       "    </tr>\n",
       "    <tr>\n",
       "      <th>4508</th>\n",
       "      <td>center_2025_01_23_20_04_54_434.jpg</td>\n",
       "      <td>/Users/samara/Desktop/self-drive/data/IMG/lef...</td>\n",
       "      <td>/Users/samara/Desktop/self-drive/data/IMG/rig...</td>\n",
       "      <td>0.0</td>\n",
       "      <td>0.0</td>\n",
       "      <td>0.0</td>\n",
       "      <td>12.236430</td>\n",
       "    </tr>\n",
       "    <tr>\n",
       "      <th>4510</th>\n",
       "      <td>center_2025_01_23_20_04_54_702.jpg</td>\n",
       "      <td>/Users/samara/Desktop/self-drive/data/IMG/lef...</td>\n",
       "      <td>/Users/samara/Desktop/self-drive/data/IMG/rig...</td>\n",
       "      <td>0.0</td>\n",
       "      <td>0.0</td>\n",
       "      <td>0.0</td>\n",
       "      <td>11.904020</td>\n",
       "    </tr>\n",
       "    <tr>\n",
       "      <th>4511</th>\n",
       "      <td>center_2025_01_23_20_04_54_831.jpg</td>\n",
       "      <td>/Users/samara/Desktop/self-drive/data/IMG/lef...</td>\n",
       "      <td>/Users/samara/Desktop/self-drive/data/IMG/rig...</td>\n",
       "      <td>0.0</td>\n",
       "      <td>0.0</td>\n",
       "      <td>0.0</td>\n",
       "      <td>11.742360</td>\n",
       "    </tr>\n",
       "    <tr>\n",
       "      <th>4513</th>\n",
       "      <td>center_2025_01_23_20_04_55_094.jpg</td>\n",
       "      <td>/Users/samara/Desktop/self-drive/data/IMG/lef...</td>\n",
       "      <td>/Users/samara/Desktop/self-drive/data/IMG/rig...</td>\n",
       "      <td>0.0</td>\n",
       "      <td>0.0</td>\n",
       "      <td>0.0</td>\n",
       "      <td>11.216950</td>\n",
       "    </tr>\n",
       "  </tbody>\n",
       "</table>\n",
       "<p>2110 rows × 7 columns</p>\n",
       "</div>"
      ],
      "text/plain": [
       "                                  Center  \\\n",
       "3     center_2025_01_23_19_45_29_242.jpg   \n",
       "6     center_2025_01_23_19_45_29_596.jpg   \n",
       "8     center_2025_01_23_19_45_29_836.jpg   \n",
       "10    center_2025_01_23_19_45_30_078.jpg   \n",
       "14    center_2025_01_23_19_45_30_557.jpg   \n",
       "...                                  ...   \n",
       "4506  center_2025_01_23_20_04_54_171.jpg   \n",
       "4508  center_2025_01_23_20_04_54_434.jpg   \n",
       "4510  center_2025_01_23_20_04_54_702.jpg   \n",
       "4511  center_2025_01_23_20_04_54_831.jpg   \n",
       "4513  center_2025_01_23_20_04_55_094.jpg   \n",
       "\n",
       "                                                   Left  \\\n",
       "3      /Users/samara/Desktop/self-drive/data/IMG/lef...   \n",
       "6      /Users/samara/Desktop/self-drive/data/IMG/lef...   \n",
       "8      /Users/samara/Desktop/self-drive/data/IMG/lef...   \n",
       "10     /Users/samara/Desktop/self-drive/data/IMG/lef...   \n",
       "14     /Users/samara/Desktop/self-drive/data/IMG/lef...   \n",
       "...                                                 ...   \n",
       "4506   /Users/samara/Desktop/self-drive/data/IMG/lef...   \n",
       "4508   /Users/samara/Desktop/self-drive/data/IMG/lef...   \n",
       "4510   /Users/samara/Desktop/self-drive/data/IMG/lef...   \n",
       "4511   /Users/samara/Desktop/self-drive/data/IMG/lef...   \n",
       "4513   /Users/samara/Desktop/self-drive/data/IMG/lef...   \n",
       "\n",
       "                                                  Right  Steering  Throttle  \\\n",
       "3      /Users/samara/Desktop/self-drive/data/IMG/rig...       0.0       0.0   \n",
       "6      /Users/samara/Desktop/self-drive/data/IMG/rig...       0.0       0.0   \n",
       "8      /Users/samara/Desktop/self-drive/data/IMG/rig...       0.0       0.0   \n",
       "10     /Users/samara/Desktop/self-drive/data/IMG/rig...       0.0       0.0   \n",
       "14     /Users/samara/Desktop/self-drive/data/IMG/rig...       0.0       0.0   \n",
       "...                                                 ...       ...       ...   \n",
       "4506   /Users/samara/Desktop/self-drive/data/IMG/rig...       0.0       0.0   \n",
       "4508   /Users/samara/Desktop/self-drive/data/IMG/rig...       0.0       0.0   \n",
       "4510   /Users/samara/Desktop/self-drive/data/IMG/rig...       0.0       0.0   \n",
       "4511   /Users/samara/Desktop/self-drive/data/IMG/rig...       0.0       0.0   \n",
       "4513   /Users/samara/Desktop/self-drive/data/IMG/rig...       0.0       0.0   \n",
       "\n",
       "      Brake      Speed  \n",
       "3       0.0   0.000084  \n",
       "6       0.0   0.000078  \n",
       "8       0.0   0.000080  \n",
       "10      0.0   0.000078  \n",
       "14      0.0   0.000080  \n",
       "...     ...        ...  \n",
       "4506    0.0  12.310910  \n",
       "4508    0.0  12.236430  \n",
       "4510    0.0  11.904020  \n",
       "4511    0.0  11.742360  \n",
       "4513    0.0  11.216950  \n",
       "\n",
       "[2110 rows x 7 columns]"
      ]
     },
     "execution_count": 4,
     "metadata": {},
     "output_type": "execute_result"
    }
   ],
   "source": [
    "path='/Users/samara/Desktop/self-drive/data'\n",
    "data=importDataInfo(path)\n",
    "balanceData(data)"
   ]
  },
  {
   "cell_type": "code",
   "execution_count": null,
   "id": "65800200-9a2b-4f7a-b232-bba4b981d1ed",
   "metadata": {},
   "outputs": [],
   "source": []
  },
  {
   "cell_type": "code",
   "execution_count": 18,
   "id": "65c3933f-7539-44a5-ac70-8212a08acbec",
   "metadata": {},
   "outputs": [
    {
     "name": "stdout",
     "output_type": "stream",
     "text": [
      "[1.         1.66666667 2.33333333 3.        ]\n"
     ]
    }
   ],
   "source": [
    "a,b=np.histogram([1,3,2],3)\n",
    "print(b)"
   ]
  },
  {
   "cell_type": "code",
   "execution_count": 104,
   "id": "a60cc822-3a81-4100-8234-67d13b298346",
   "metadata": {},
   "outputs": [
    {
     "name": "stdout",
     "output_type": "stream",
     "text": [
      "tf.Tensor(6.0, shape=(), dtype=float32)\n"
     ]
    }
   ],
   "source": [
    "x=tf.Variable(3.0)\n",
    "with tf.GradientTape() as tape:\n",
    "    z=x**2+y**3;\n",
    "gradients=tape.gradient(z,[x,y])\n",
    "print(gradients[0])"
   ]
  },
  {
   "cell_type": "code",
   "execution_count": 7,
   "id": "66336b95-6ed3-4de5-9e20-277a99b67392",
   "metadata": {},
   "outputs": [
    {
     "name": "stdout",
     "output_type": "stream",
     "text": [
      "[2, 3]\n"
     ]
    }
   ],
   "source": []
  },
  {
   "cell_type": "code",
   "execution_count": null,
   "id": "f5eb20ad-8497-44ad-a4b3-76128c0d2576",
   "metadata": {},
   "outputs": [],
   "source": []
  }
 ],
 "metadata": {
  "kernelspec": {
   "display_name": "Python 3 (ipykernel)",
   "language": "python",
   "name": "python3"
  },
  "language_info": {
   "codemirror_mode": {
    "name": "ipython",
    "version": 3
   },
   "file_extension": ".py",
   "mimetype": "text/x-python",
   "name": "python",
   "nbconvert_exporter": "python",
   "pygments_lexer": "ipython3",
   "version": "3.12.4"
  }
 },
 "nbformat": 4,
 "nbformat_minor": 5
}
