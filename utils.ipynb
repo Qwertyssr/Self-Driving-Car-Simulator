{
 "cells": [
  {
   "cell_type": "code",
   "execution_count": 3,
   "id": "4ea0b199-15d9-41f8-bfc1-94a0cde786a6",
   "metadata": {},
   "outputs": [],
   "source": [
    "import pandas as pd\n",
    "import numpy as np\n",
    "import matplotlib.pyplot as plt\n",
    "import os"
   ]
  },
  {
   "cell_type": "code",
   "execution_count": 6,
   "id": "c035141c-9bf9-4c41-a9d6-a4fca9aa47ba",
   "metadata": {},
   "outputs": [],
   "source": [
    "def getName(filePath):\n",
    "    return filePath.split('/')[-1];\n",
    "    \n",
    "def importDataInfo(path):\n",
    "    columns=['Center','Left','Right','Steering','Throttle','Brake','Speed']\n",
    "    #data=pd.read_csv(os.path.join(path,'driving_log.csv')\n",
    "    print(os.path.join(path,'driving_log.csv'))"
   ]
  },
  {
   "cell_type": "code",
   "execution_count": null,
   "id": "72f7efde-dadc-494b-982a-786d800c325e",
   "metadata": {},
   "outputs": [],
   "source": [
    "nBins=31;\n",
    "    samplesPerBin=1000;\n",
    "    hist,bins=np.histogram(data['Steering'],nBins);\n",
    "    center= (bins[:-1]+bins[1:])*0.5;\n",
    "    removedIndexList=[]\n",
    "    for i in range(nBins):\n",
    "        binDataList=[]\n",
    "        for j in range(len(data['Steering'])):\n",
    "            if data['Steering'][j]>=bins[i] and data['Steering'][j]<=bins[i+1]:\n",
    "                binDataList.append(j)\n",
    "        binDataList=shuffle(binDataList)\n",
    "        binDataList=binDataList[samplesPerBin:]\n",
    "        removedIndexList.extend(binDataList)\n",
    "    data.drop(data.index[removedIndexList],inplace=True)\n",
    "    print(\"Remaining images:\",len(data))\n",
    "    if display:\n",
    "        hist,_=np.histogram(data['Steering'],nBins);\n",
    "        plt.bar(center,hist,width=0.06);\n",
    "        plt.plot([-1,1],[samplesPerBin,samplesPerBin]);\n",
    "        plt.show();\n",
    "    return data;"
   ]
  }
 ],
 "metadata": {
  "kernelspec": {
   "display_name": "Python 3 (ipykernel)",
   "language": "python",
   "name": "python3"
  },
  "language_info": {
   "codemirror_mode": {
    "name": "ipython",
    "version": 3
   },
   "file_extension": ".py",
   "mimetype": "text/x-python",
   "name": "python",
   "nbconvert_exporter": "python",
   "pygments_lexer": "ipython3",
   "version": "3.12.4"
  }
 },
 "nbformat": 4,
 "nbformat_minor": 5
}
